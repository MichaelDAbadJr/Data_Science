{
 "cells": [
  {
   "cell_type": "code",
   "execution_count": 1,
   "id": "d9c6a233",
   "metadata": {},
   "outputs": [
    {
     "name": "stdout",
     "output_type": "stream",
     "text": [
      "Welcome to Python Programming\n",
      "Python\n",
      "mming\n",
      "Welcome to Python Programming!!!\n"
     ]
    }
   ],
   "source": [
    "# Create the string str with “Welcome to Python Programming”\n",
    "str = \"Welcome to Python Programming\"\n",
    "\n",
    "# Output the string using the function Print\n",
    "print(str)\n",
    "\n",
    "# Output the substring from indexes 11 to 16 (including both indexes 11 and 16).\n",
    "print(str[11:17])\n",
    "\n",
    "# Output the substring of the last 5 characters (please use negative index)\n",
    "print(str[-5:])\n",
    "\n",
    "# Concatenate the string ‘!!!’ to the end of the string str\n",
    "str = str + '!!!'\n",
    "\n",
    "# Output the string str\n",
    "print(str)"
   ]
  },
  {
   "cell_type": "code",
   "execution_count": 27,
   "id": "8056556b",
   "metadata": {},
   "outputs": [
    {
     "name": "stdout",
     "output_type": "stream",
     "text": [
      "[1, 2, 3, 4]\n",
      "[1, 2, 3, 4, (5, 6)]\n",
      "[1, 2, 3, 4, (5, 6), ['perfect', 'wonderful']]\n",
      "[1, 2, 3, 4, (5, 6), ['perfect', 'wonderful'], [7, 8], [9, 10]]\n",
      "[1, 2, 3, 4, (5, 6), ['perfect', 'wonderful'], [7, 8], [9, 10], 8.5, 7, 'code', 'software']\n",
      "[[9, 10], 8.5, 7, 'code', 'software']\n",
      "[1, 2, 3, [9, 10], 8.5, 7, 'code', 'software']\n"
     ]
    }
   ],
   "source": [
    "# Create an empty list\n",
    "li = []\n",
    "\n",
    "# Add the elements 1, 2, 3, 4 into the list one by one and output the list after all additions\n",
    "li.append(1)\n",
    "li.append(2)\n",
    "li.append(3)\n",
    "li.append(4)\n",
    "print(li)\n",
    "\n",
    "# Add the tuple (5, 6) as an element to the end of the list and output the list\n",
    "li.append((5,6))\n",
    "print(li)\n",
    "\n",
    "# Add the list [‘perfect’, ‘wonderful’] as an element to the end of the list and output the list\n",
    "li.append(['perfect','wonderful'])\n",
    "print(li)\n",
    "\n",
    "# Concatenate the list [[7, 8], [9, 10]] to the end of the above list and output the new list\n",
    "li = li + [[7,8],[9,10]]\n",
    "print(li)\n",
    "\n",
    "# Add the multiple elements 8.5, 7, ‘code’, ‘software’ to the end of the list at once and output the list\n",
    "li.extend([8.5, 7, 'code','software'])\n",
    "print(li)\n",
    "\n",
    "# Output the last 5 elements in the list\n",
    "print(li[-5:])\n",
    "\n",
    "# Remove the elements from indexes 3 to 6 and output the list\n",
    "del li[3:7]\n",
    "print(li)"
   ]
  },
  {
   "cell_type": "code",
   "execution_count": 28,
   "id": "3e3709dc",
   "metadata": {},
   "outputs": [
    {
     "name": "stdout",
     "output_type": "stream",
     "text": [
      "(1, 2, 3, 4)\n",
      "('Python', 'for', 'Kids')\n",
      "(1, 2, 3, 4, 'Python', 'for', 'Kids')\n",
      "(4, 'Python', 'for', 'Kids')\n"
     ]
    }
   ],
   "source": [
    "# Create a tuple Tuple1 using the list with elements 1, 2, 3, 4 and output the tuple. (Note:\n",
    "# there are many ways to create a tuple. You use the list to create the tuple here.)\n",
    "Tuple1 = tuple([1,2,3,4])\n",
    "print(Tuple1)\n",
    "\n",
    "# Create another tuple Tuple2 with elements ‘Python’, ‘for’, and ‘kids’ directly, and then\n",
    "# output the table.\n",
    "Tuple2 = ('Python', 'for', 'Kids')\n",
    "print(Tuple2)\n",
    "\n",
    "# Concatenate the tuple Tuple2 to the end of Tuple1 and assign the resulted tuple to\n",
    "# Tuple1. Then output the tuple Tuple1.\n",
    "Tuple1 = Tuple1 + Tuple2\n",
    "print(Tuple1)\n",
    "\n",
    "# Output elements from index 3 to the end\n",
    "print(Tuple1[3:])"
   ]
  },
  {
   "cell_type": "code",
   "execution_count": 31,
   "id": "8e61fa03",
   "metadata": {},
   "outputs": [
    {
     "name": "stdout",
     "output_type": "stream",
     "text": [
      "{0: 'Python', 1: 'Programming', 2: 'Funny'}\n",
      "{0: 'Python', 1: 'is very', 2: 'Funny'}\n",
      "dict_keys([0, 1, 2])\n",
      "dict_values(['Python', 'is very', 'Funny'])\n",
      "{0: 'Python', 1: 'is very'}\n",
      "False\n",
      "[0, 1]\n"
     ]
    }
   ],
   "source": [
    "# Create an empty dictionary Dict\n",
    "dict = {}\n",
    "\n",
    "# Adding elements 0: ‘Python’, 1: ‘Programming’, 2: ‘Funny’ one by one and then output\n",
    "# the dictionary\n",
    "dict[0] = 'Python'\n",
    "dict[1] = 'Programming'\n",
    "dict[2] = 'Funny'\n",
    "print(dict)\n",
    "\n",
    "# Update the key 1’s value to ‘is very’ and output the dictionary.\n",
    "dict[1] = 'is very'\n",
    "print(dict)\n",
    "all_keys = dict.keys()\n",
    "all_values = dict.values()\n",
    "\n",
    "# output all the keys\n",
    "print(all_keys)\n",
    "\n",
    "# output all the values\n",
    "print(all_values)\n",
    "\n",
    "# Delete the element with the key 2 and output the dictionary. (Note: you should delete\n",
    "# the entire element with the key and value).\n",
    "del dict[2]\n",
    "print(dict)\n",
    "\n",
    "# Check for existence of key 2\n",
    "two_exist = 2 in dict\n",
    "print(two_exist)\n",
    "\n",
    "# Convert the dictionary Dict to a list. Only the values of the dictionary are in the list.\n",
    "# Then, output the list.\n",
    "keys = list(dict.keys())\n",
    "print(keys)"
   ]
  },
  {
   "cell_type": "code",
   "execution_count": null,
   "id": "bc0dab13",
   "metadata": {},
   "outputs": [],
   "source": []
  }
 ],
 "metadata": {
  "kernelspec": {
   "display_name": "Python 3",
   "language": "python",
   "name": "python3"
  },
  "language_info": {
   "codemirror_mode": {
    "name": "ipython",
    "version": 3
   },
   "file_extension": ".py",
   "mimetype": "text/x-python",
   "name": "python",
   "nbconvert_exporter": "python",
   "pygments_lexer": "ipython3",
   "version": "3.8.8"
  }
 },
 "nbformat": 4,
 "nbformat_minor": 5
}
